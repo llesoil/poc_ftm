{
 "cells": [
  {
   "cell_type": "markdown",
   "metadata": {},
   "source": [
    "### Install some libs"
   ]
  },
  {
   "cell_type": "markdown",
   "metadata": {},
   "source": [
    "!pip install treelib"
   ]
  },
  {
   "cell_type": "markdown",
   "metadata": {},
   "source": [
    "!pip3 install tree_sitter"
   ]
  },
  {
   "cell_type": "markdown",
   "metadata": {},
   "source": [
    "### Import some libs"
   ]
  },
  {
   "cell_type": "code",
   "execution_count": 30,
   "metadata": {},
   "outputs": [],
   "source": [
    "from treelib import Node, Tree\n",
    "from tree_sitter import Language, Parser\n",
    "import os\n",
    "import numpy as np"
   ]
  },
  {
   "cell_type": "markdown",
   "metadata": {},
   "source": [
    "### Initialize Tree-sitter go parser"
   ]
  },
  {
   "cell_type": "code",
   "execution_count": 31,
   "metadata": {},
   "outputs": [],
   "source": [
    "Language.build_library(\n",
    "  # Store the library in the `build` directory\n",
    "  'build/my-languages.so',\n",
    "\n",
    "  # Include one or more languages\n",
    "  [\n",
    "    'tree-sitter-go'\n",
    "  ]\n",
    ")\n",
    "\n",
    "GO_LANGUAGE = Language('build/my-languages.so', 'go')\n",
    "\n",
    "parser = Parser()\n",
    "parser.set_language(GO_LANGUAGE)"
   ]
  },
  {
   "cell_type": "markdown",
   "metadata": {},
   "source": [
    "## Step I : Find the Feature Toggles (FT)"
   ]
  },
  {
   "cell_type": "code",
   "execution_count": 32,
   "metadata": {},
   "outputs": [],
   "source": [
    "keywords = [\"connectThrashCheck\", \"foldersInProfileTab\", \"inviteFriends\", \"tabletSupport\", \n",
    "            \"moveOrCopy\", \"newTeamBuildingForChatAllowMakeTeam\", \"teamInvites\", \"teamsRedesign\", \n",
    "            \"webOfTrust\", \"whyDidYouRender\", \"FeatureFlags\"]\n",
    "# removing \"admin\" because it affects about 100 files \n",
    "# and it is tricky to detect if it is really the feature flag that is involved\n",
    "\n",
    "# adding FeatureFlags because some featureflags might be accessed through the table of feature flags"
   ]
  },
  {
   "cell_type": "markdown",
   "metadata": {},
   "source": [
    "### List files with keywords"
   ]
  },
  {
   "cell_type": "markdown",
   "metadata": {},
   "source": [
    "#### List all .go files"
   ]
  },
  {
   "cell_type": "code",
   "execution_count": 33,
   "metadata": {
    "scrolled": true
   },
   "outputs": [
    {
     "name": "stdout",
     "output_type": "stream",
     "text": [
      "10 random .go files in this project :\n",
      "./client/go/vendor/gopkg.in/src-d/go-git.v4/plumbing/format/pktline/scanner.go\n",
      "./client/go/vendor/github.com/couchbase/vellum/vellum_mmap.go\n",
      "./client/go/client/cmd_chat_createchannel.go\n",
      "./client/go/kbfs/simplefs/upload_manager.go\n",
      "./client/packaging/linux/tuxbot/bot/chatbot/logger.go\n",
      "./client/go/kbfs/libkbfs/config_mock_test.go\n",
      "./client/go/libkb/skb_test.go\n",
      "./client/go/libkb/resolve.go\n",
      "./client/go/vendor/github.com/syndtr/goleveldb/leveldb/db_write.go\n",
      "./client/go/client/cmd_account_reset.go\n"
     ]
    }
   ],
   "source": [
    "go_folders = [x[0] for x in os.walk(\"./client/\")]\n",
    "\n",
    "go_files = []\n",
    "for dir_name in go_folders:\n",
    "    files = [dir_name+\"/\"+k for k in os.listdir(dir_name) if k[len(k)-3:] ==\".go\"]\n",
    "    go_files.extend(files)\n",
    "\n",
    "print(\"10 random .go files in this project :\")\n",
    "for k in range(10):\n",
    "    print(go_files[np.random.randint(len(go_files))])"
   ]
  },
  {
   "cell_type": "code",
   "execution_count": 34,
   "metadata": {},
   "outputs": [
    {
     "data": {
      "text/plain": [
       "4744"
      ]
     },
     "execution_count": 34,
     "metadata": {},
     "output_type": "execute_result"
    }
   ],
   "source": [
    "len(go_files)"
   ]
  },
  {
   "cell_type": "markdown",
   "metadata": {},
   "source": [
    "#### List the interesting files, containing at least one keyword with the featureflag "
   ]
  },
  {
   "cell_type": "code",
   "execution_count": 35,
   "metadata": {
    "scrolled": false
   },
   "outputs": [
    {
     "name": "stdout",
     "output_type": "stream",
     "text": [
      "./client/go/stellar/stellarsvc/service.go contains :\n",
      "-> FeatureFlags\n",
      "\n",
      "\n",
      "./client/go/keybase/main.go contains :\n",
      "-> FeatureFlags\n",
      "\n",
      "\n",
      "./client/go/engine/features_test.go contains :\n",
      "-> FeatureFlags\n",
      "\n",
      "\n",
      "./client/go/libcmdline/cmdline.go contains :\n",
      "-> FeatureFlags\n",
      "\n",
      "\n",
      "./client/go/protocol/keybase1/notify_users.go contains :\n",
      "-> webOfTrust\n",
      "\n",
      "\n",
      "./client/go/protocol/keybase1/invite_friends.go contains :\n",
      "-> inviteFriends\n",
      "\n",
      "\n",
      "./client/go/externals/services.go contains :\n",
      "-> FeatureFlags\n",
      "\n",
      "\n",
      "./client/go/teams/chain.go contains :\n",
      "-> teamInvites\n",
      "\n",
      "\n",
      "./client/go/teams/hidden/hidden.go contains :\n",
      "-> FeatureFlags\n",
      "\n",
      "\n",
      "./client/go/chat/journey_card_manager.go contains :\n",
      "-> FeatureFlags\n",
      "\n",
      "\n",
      "./client/go/libkb/chain_link_v2.go contains :\n",
      "-> FeatureFlags\n",
      "\n",
      "\n",
      "./client/go/libkb/test_common.go contains :\n",
      "-> FeatureFlags\n",
      "\n",
      "\n",
      "./client/go/libkb/features.go contains :\n",
      "-> FeatureFlags\n",
      "\n",
      "\n",
      "./client/go/libkb/globals.go contains :\n",
      "-> FeatureFlags\n",
      "\n",
      "\n",
      "./client/go/libkb/config.go contains :\n",
      "-> FeatureFlags\n",
      "\n",
      "\n",
      "./client/go/libkb/env.go contains :\n",
      "-> FeatureFlags\n",
      "\n",
      "\n",
      "./client/go/libkb/services.go contains :\n",
      "-> FeatureFlags\n",
      "\n",
      "\n",
      "./client/go/libkb/logout.go contains :\n",
      "-> FeatureFlags\n",
      "\n",
      "\n",
      "./client/go/libkb/wot.go contains :\n",
      "-> webOfTrust\n",
      "\n",
      "\n",
      "./client/go/libkb/kbsig.go contains :\n",
      "-> FeatureFlags\n",
      "\n",
      "\n",
      "./client/go/libkb/interfaces.go contains :\n",
      "-> FeatureFlags\n",
      "\n",
      "\n"
     ]
    }
   ],
   "source": [
    "go_file_interests = []\n",
    "\n",
    "for file in go_files:\n",
    "    s = \"\"\n",
    "    with open(file, \"r\") as f:\n",
    "        s+=f.read()+\"\\n\"\n",
    "    kw_file = [k for k in keywords if k in s]\n",
    "    if len(kw_file) > 0:\n",
    "        print(file, \"contains :\")\n",
    "        for kw in kw_file:\n",
    "            print(\"->\",kw)\n",
    "        go_file_interests.append(file)\n",
    "        print(\"\\n\")"
   ]
  },
  {
   "cell_type": "code",
   "execution_count": 36,
   "metadata": {},
   "outputs": [
    {
     "data": {
      "text/plain": [
       "21"
      ]
     },
     "execution_count": 36,
     "metadata": {},
     "output_type": "execute_result"
    }
   ],
   "source": [
    "len(go_file_interests)"
   ]
  },
  {
   "cell_type": "markdown",
   "metadata": {},
   "source": [
    "## Step 3 - Search Feature Toggles dependencies in the AST"
   ]
  },
  {
   "cell_type": "code",
   "execution_count": 37,
   "metadata": {
    "scrolled": false
   },
   "outputs": [
    {
     "name": "stdout",
     "output_type": "stream",
     "text": [
      "File :             ./client/go/stellar/stellarsvc/service.go \n",
      "\n",
      "\n",
      "\n",
      "File :             ./client/go/keybase/main.go \n",
      "\n",
      "\n",
      "\n",
      "if !e.GetFeatureFlags().Admin(e.GetUID()) {\n",
      "\t\t// Admin only for now\n",
      "\t\treturn\n",
      "\t}\n",
      "\n",
      "\n",
      "-> !e.GetFeatureFlags().Admin(e.GetUID())\n",
      "\n",
      "\n",
      "File :             ./client/go/engine/features_test.go \n",
      "\n",
      "\n",
      "\n",
      "File :             ./client/go/libcmdline/cmdline.go \n",
      "\n",
      "\n",
      "\n",
      "File :             ./client/go/protocol/keybase1/notify_users.go \n",
      "\n",
      "\n",
      "\n",
      "File :             ./client/go/protocol/keybase1/invite_friends.go \n",
      "\n",
      "\n",
      "\n",
      "File :             ./client/go/externals/services.go \n",
      "\n",
      "\n",
      "\n",
      "File :             ./client/go/teams/chain.go \n",
      "\n",
      "\n",
      "\n",
      "if prevState.IsImplicit() {\n",
      "\t\t\t// Check to see if the additions were previously members of the team\n",
      "\t\t\tcheckImpteamInvites := func() error {\n",
      "\t\t\t\taddedUIDs := make(map[keybase1.UID]bool)\n",
      "\t\t\t\tfor _, invites := range additions {\n",
      "\t\t\t\t\tfor _, invite := range invites {\n",
      "\t\t\t\t\t\tcat, err := invite.Type.C()\n",
      "\t\t\t\t\t\tif err != nil {\n",
      "\t\t\t\t\t\t\treturn err\n",
      "\t\t\t\t\t\t}\n",
      "\t\t\t\t\t\tif cat == keybase1.TeamInviteCategory_KEYBASE {\n",
      "\t\t\t\t\t\t\tuv, err := invite.KeybaseUserVersion()\n",
      "\t\t\t\t\t\t\tif err != nil {\n",
      "\t\t\t\t\t\t\t\treturn err\n",
      "\t\t\t\t\t\t\t}\n",
      "\t\t\t\t\t\t\taddedUIDs[uv.Uid] = true\n",
      "\t\t\t\t\t\t\t_, err = prevState.GetLatestUVWithUID(uv.Uid)\n",
      "\t\t\t\t\t\t\tif err == nil {\n",
      "\t\t\t\t\t\t\t\t// Found crypto member in previous\n",
      "\t\t\t\t\t\t\t\t// state, we are good!\n",
      "\t\t\t\t\t\t\t\tcontinue\n",
      "\t\t\t\t\t\t\t}\n",
      "\t\t\t\t\t\t\t_, _, found := prevState.FindActiveKeybaseInvite(uv.Uid)\n",
      "\t\t\t\t\t\t\tif found {\n",
      "\t\t\t\t\t\t\t\t// Found PUKless member in previous\n",
      "\t\t\t\t\t\t\t\t// state, still fine!\n",
      "\t\t\t\t\t\t\t\tcontinue\n",
      "\t\t\t\t\t\t\t}\n",
      "\t\t\t\t\t\t\t// Neither crypto member nor PUKless member\n",
      "\t\t\t\t\t\t\t// found, we can't allow this addition.\n",
      "\t\t\t\t\t\t\treturn fmt.Errorf(\"Not found previous version of user %s\", uv.Uid)\n",
      "\t\t\t\t\t\t}\n",
      "\t\t\t\t\t\treturn fmt.Errorf(\"invalid invite type in implicit team: %v\", cat)\n",
      "\t\t\t\t\t}\n",
      "\t\t\t\t}\n",
      "\n",
      "\t\t\t\tvar cancelledUVs []keybase1.UserVersion\n",
      "\t\t\t\tfor _, inviteID := range cancelations {\n",
      "\t\t\t\t\tinviteMD, found := prevState.FindActiveInviteMDByID(inviteID)\n",
      "\t\t\t\t\tif !found {\n",
      "\t\t\t\t\t\t// This is harmless and also we might be canceling\n",
      "\t\t\t\t\t\t// an obsolete invite.\n",
      "\t\t\t\t\t\tcontinue\n",
      "\t\t\t\t\t}\n",
      "\t\t\t\t\tinviteUv, err := inviteMD.Invite.KeybaseUserVersion()\n",
      "\t\t\t\t\tif err != nil {\n",
      "\t\t\t\t\t\treturn fmt.Errorf(\"cancelled invite is not valid keybase-type invite: %v\", err)\n",
      "\t\t\t\t\t}\n",
      "\t\t\t\t\tcancelledUVs = append(cancelledUVs, inviteUv)\n",
      "\t\t\t\t}\n",
      "\n",
      "\t\t\t\tfor _, uv := range cancelledUVs {\n",
      "\t\t\t\t\tif !addedUIDs[uv.Uid] {\n",
      "\t\t\t\t\t\treturn fmt.Errorf(\"cancelling invite for %v without inviting back a new version\", uv)\n",
      "\t\t\t\t\t}\n",
      "\t\t\t\t}\n",
      "\t\t\t\treturn nil\n",
      "\t\t\t}\n",
      "\t\t\tif err := checkImpteamInvites(); err != nil {\n",
      "\t\t\t\treturn res, NewImplicitTeamOperationError(\"Error in link %q: %v\", payload.Body.Type, err)\n",
      "\t\t\t}\n",
      "\t\t}\n",
      "\n",
      "\n",
      "-> prevState.IsImplicit()\n",
      "\n",
      "\n",
      "if err := checkImpteamInvites(); err != nil {\n",
      "\t\t\t\treturn res, NewImplicitTeamOperationError(\"Error in link %q: %v\", payload.Body.Type, err)\n",
      "\t\t\t}\n",
      "\n",
      "\n",
      "-> err != nil\n",
      "\n",
      "\n",
      "File :             ./client/go/teams/hidden/hidden.go \n",
      "\n",
      "\n",
      "\n",
      "File :             ./client/go/chat/journey_card_manager.go \n",
      "\n",
      "\n",
      "\n",
      "if cc.G().Env.GetFeatureFlags().HasFeature(libkb.FeatureJourneycard) {\n",
      "\t\treturn true\n",
      "\t}\n",
      "\n",
      "\n",
      "-> cc.G().Env.GetFeatureFlags().HasFeature(libkb.FeatureJourneycard)\n",
      "\n",
      "\n",
      "File :             ./client/go/libkb/chain_link_v2.go \n",
      "\n",
      "\n",
      "\n",
      "File :             ./client/go/libkb/test_common.go \n",
      "\n",
      "\n",
      "\n",
      "File :             ./client/go/libkb/features.go \n",
      "\n",
      "\n",
      "\n",
      "File :             ./client/go/libkb/globals.go \n",
      "\n",
      "\n",
      "\n",
      "File :             ./client/go/libkb/config.go \n",
      "\n",
      "\n",
      "\n",
      "if s, isSet := f.GetStringAtPath(\"features\"); isSet {\n",
      "\t\tret = StringToFeatureFlags(s)\n",
      "\t}\n",
      "\n",
      "\n",
      "\n",
      "\n",
      "File :             ./client/go/libkb/env.go \n",
      "\n",
      "\n",
      "\n",
      "if e.Test.EnvironmentFeatureFlags != nil {\n",
      "\t\tpick(e.Test.EnvironmentFeatureFlags, nil)\n",
      "\t}\n",
      "\n",
      "\n",
      "-> e.Test.EnvironmentFeatureFlags != nil\n",
      "\n",
      "\n",
      "if e.GetAppType() == MobileAppType && !e.GetFeatureFlags().Admin(e.GetUID()) {\n",
      "\t\tmaxKeepFiles = 2\n",
      "\t\tmaxSize = 16 * opt.MiB\n",
      "\t} else {\n",
      "\t\tmaxKeepFiles = 3\n",
      "\t\tmaxSize = 128 * opt.MiB\n",
      "\t}\n",
      "\n",
      "\n",
      "-> e.GetAppType() == MobileAppType && !e.GetFeatureFlags().Admin(e.GetUID())\n",
      "\n",
      "\n",
      "File :             ./client/go/libkb/services.go \n",
      "\n",
      "\n",
      "\n",
      "if !skipFeatureFlag {\n",
      "\t\tif mctx.G().FeatureFlags.Enabled(mctx, ExperimentalGenericProofs) {\n",
      "\t\t\treturn true\n",
      "\t\t}\n",
      "\t}\n",
      "\n",
      "\n",
      "-> !skipFeatureFlag\n",
      "\n",
      "\n",
      "if mctx.G().FeatureFlags.Enabled(mctx, ExperimentalGenericProofs) {\n",
      "\t\t\treturn true\n",
      "\t\t}\n",
      "\n",
      "\n",
      "-> mctx.G().FeatureFlags.Enabled(mctx, ExperimentalGenericProofs)\n",
      "\n",
      "\n",
      "File :             ./client/go/libkb/logout.go \n",
      "\n",
      "\n",
      "\n",
      "File :             ./client/go/libkb/wot.go \n",
      "\n",
      "\n",
      "\n",
      "File :             ./client/go/libkb/kbsig.go \n",
      "\n",
      "\n",
      "\n",
      "File :             ./client/go/libkb/interfaces.go \n",
      "\n",
      "\n",
      "\n"
     ]
    }
   ],
   "source": [
    "for gfi in go_file_interests:\n",
    "    \n",
    "    s = \"\"\n",
    "    with open(gfi, \"r\") as f:\n",
    "        s+=f.read()+\"\\n\"\n",
    "\n",
    "    print(\"File :            \", gfi, \"\\n\")\n",
    "\n",
    "    source = bytes(s, \"utf8\")\n",
    "    ast = parser.parse(source)\n",
    "\n",
    "    root_node = ast.root_node\n",
    "\n",
    "    tree = Tree()\n",
    "\n",
    "    root_node = ast.root_node\n",
    "\n",
    "    type_nodes = dict()\n",
    "\n",
    "    def get_name(node):\n",
    "        return source[node.start_byte:node.end_byte].decode('utf8')\n",
    "\n",
    "    def get_id(node):\n",
    "        global type_nodes\n",
    "        node_type = node.type\n",
    "        if node_type not in type_nodes:\n",
    "            type_nodes[node_type]=1\n",
    "        else:\n",
    "            type_nodes[node_type]+=1\n",
    "        return node_type+str(type_nodes[node_type])\n",
    "\n",
    "    def process(root_id, node):\n",
    "        global tree\n",
    "        node_id = get_id(node)\n",
    "        node_name = get_name(node)\n",
    "        for kw in keywords:\n",
    "            if kw in node_name and node.type == 'if_statement':\n",
    "                print(\"\\n\\n\"+get_name(node)+\"\\n\\n\")\n",
    "                for c in node.children:\n",
    "                    if c.type == 'binary_expression' or c.type == 'unary_expression' or c.type == 'call_expression':\n",
    "                        print(\"->\",get_name(c))\n",
    "        tree.create_node(node_name,\n",
    "                         node_id,\n",
    "                         parent = root_id)\n",
    "        if len(node.children) != 0:\n",
    "            for i in range(len(node.children)):\n",
    "                process(node_id, node.children[i])\n",
    "\n",
    "    tree.create_node(\"root\", \"root\")\n",
    "    for i in range(len(root_node.children)):\n",
    "        process(\"root\", root_node.children[i])\n",
    "    print(\"\\n\")\n",
    "\n",
    "    #tree.show()"
   ]
  },
  {
   "cell_type": "code",
   "execution_count": null,
   "metadata": {},
   "outputs": [],
   "source": []
  },
  {
   "cell_type": "code",
   "execution_count": null,
   "metadata": {},
   "outputs": [],
   "source": []
  },
  {
   "cell_type": "code",
   "execution_count": 38,
   "metadata": {
    "scrolled": true
   },
   "outputs": [
    {
     "data": {
      "text/plain": [
       "{'comment': 127,\n",
       " 'package_clause': 1,\n",
       " 'package': 1,\n",
       " 'package_identifier': 565,\n",
       " '\\n': 780,\n",
       " 'import_declaration': 1,\n",
       " 'import': 1,\n",
       " 'import_spec_list': 1,\n",
       " '(': 795,\n",
       " 'import_spec': 13,\n",
       " 'interpreted_string_literal': 13,\n",
       " '\"': 26,\n",
       " ')': 795,\n",
       " 'type_declaration': 111,\n",
       " 'type': 111,\n",
       " 'type_spec': 111,\n",
       " 'type_identifier': 1787,\n",
       " 'interface_type': 108,\n",
       " 'interface': 108,\n",
       " 'method_spec_list': 108,\n",
       " '{': 127,\n",
       " 'method_spec': 562,\n",
       " 'field_identifier': 623,\n",
       " 'parameter_list': 791,\n",
       " 'parameter_declaration': 1297,\n",
       " 'qualified_type': 558,\n",
       " '.': 558,\n",
       " ',': 725,\n",
       " 'slice_type': 69,\n",
       " '[': 79,\n",
       " ']': 79,\n",
       " '}': 127,\n",
       " 'pointer_type': 89,\n",
       " '*': 89,\n",
       " 'map_type': 9,\n",
       " 'map': 9,\n",
       " 'struct_type': 19,\n",
       " 'struct': 19,\n",
       " 'field_declaration_list': 19,\n",
       " 'identifier': 589,\n",
       " 'variadic_parameter_declaration': 16,\n",
       " '...': 16,\n",
       " 'field_declaration': 61,\n",
       " 'raw_string_literal': 4,\n",
       " 'function_type': 7,\n",
       " 'func': 7,\n",
       " 'const_declaration': 3,\n",
       " 'const': 3,\n",
       " 'const_spec': 8,\n",
       " '=': 4,\n",
       " 'expression_list': 4,\n",
       " 'array_type': 1,\n",
       " 'int_literal': 1,\n",
       " 'channel_type': 1,\n",
       " 'chan': 1}"
      ]
     },
     "execution_count": 38,
     "metadata": {},
     "output_type": "execute_result"
    }
   ],
   "source": [
    "type_nodes"
   ]
  },
  {
   "cell_type": "code",
   "execution_count": 14,
   "metadata": {},
   "outputs": [],
   "source": [
    "# Pattern matching -> does not work yet"
   ]
  },
  {
   "cell_type": "markdown",
   "metadata": {},
   "source": [
    "query = GO_LANGUAGE.query(\"\"\"\n",
    "(function_definition\n",
    "  name: (identifier) @function.def)\n",
    "\n",
    "(call\n",
    "  function: (identifier) @function.call)\n",
    "\"\"\")\n",
    "\n",
    "captures = query.captures(tree.root_node)\n",
    "\n"
   ]
  },
  {
   "cell_type": "code",
   "execution_count": null,
   "metadata": {},
   "outputs": [],
   "source": []
  }
 ],
 "metadata": {
  "kernelspec": {
   "display_name": "Python 3",
   "language": "python",
   "name": "python3"
  },
  "language_info": {
   "codemirror_mode": {
    "name": "ipython",
    "version": 3
   },
   "file_extension": ".py",
   "mimetype": "text/x-python",
   "name": "python",
   "nbconvert_exporter": "python",
   "pygments_lexer": "ipython3",
   "version": "3.8.1"
  }
 },
 "nbformat": 4,
 "nbformat_minor": 4
}
