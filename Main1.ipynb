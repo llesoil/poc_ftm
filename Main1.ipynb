{
 "cells": [
  {
   "cell_type": "code",
   "execution_count": 1,
   "metadata": {},
   "outputs": [],
   "source": [
    "from tree_sitter import Language, Parser\n",
    "import os\n",
    "import re\n",
    "import json\n",
    "from util import *"
   ]
  },
  {
   "cell_type": "code",
   "execution_count": 2,
   "metadata": {},
   "outputs": [],
   "source": [
    "Language.build_library('build/my-languages.so', ['tree-sitter-go'])\n",
    "GO_LANGUAGE = Language('build/my-languages.so', 'go')\n",
    "parser = Parser()\n",
    "parser.set_language(GO_LANGUAGE)"
   ]
  },
  {
   "cell_type": "code",
   "execution_count": 3,
   "metadata": {},
   "outputs": [],
   "source": [
    "all_projects = [Project(\"boulder\", parser), Project(\"juju\", parser), Project(\"kops\", parser),\\\n",
    "                Project(\"kubernetes\", parser), Project(\"loomchain\", parser)]\n",
    "\n",
    "for project in all_projects:\n",
    "    project.analyse_files()\n",
    "    project.save_imply()"
   ]
  },
  {
   "cell_type": "code",
   "execution_count": null,
   "metadata": {},
   "outputs": [],
   "source": []
  }
 ],
 "metadata": {
  "kernelspec": {
   "display_name": "Python 3",
   "language": "python",
   "name": "python3"
  },
  "language_info": {
   "codemirror_mode": {
    "name": "ipython",
    "version": 3
   },
   "file_extension": ".py",
   "mimetype": "text/x-python",
   "name": "python",
   "nbconvert_exporter": "python",
   "pygments_lexer": "ipython3",
   "version": "3.8.1"
  }
 },
 "nbformat": 4,
 "nbformat_minor": 5
}
