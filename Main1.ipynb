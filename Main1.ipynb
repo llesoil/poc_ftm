{
 "cells": [
  {
   "cell_type": "code",
   "execution_count": 1,
   "id": "d000dde9",
   "metadata": {},
   "outputs": [],
   "source": [
    "from tree_sitter import Language, Parser\n",
    "import os\n",
    "import re\n",
    "import json\n",
    "from util import *"
   ]
  },
  {
   "cell_type": "code",
   "execution_count": 2,
   "id": "bf7b9108",
   "metadata": {},
   "outputs": [],
   "source": [
    "Language.build_library('build/my-languages.so', ['tree-sitter-go'])\n",
    "GO_LANGUAGE = Language('build/my-languages.so', 'go')\n",
    "parser = Parser()\n",
    "parser.set_language(GO_LANGUAGE)"
   ]
  },
  {
   "cell_type": "code",
   "execution_count": 3,
   "id": "417a03d5",
   "metadata": {},
   "outputs": [],
   "source": [
    "all_projects = [Project(\"boulder\", parser), Project(\"juju\", parser), Project(\"kops\", parser),\\\n",
    "                Project(\"kubernetes\", parser), Project(\"loomchain\", parser)]\n",
    "\n",
    "for project in all_projects:\n",
    "    project.analyse_files()\n",
    "    project.save_imply()"
   ]
  },
  {
   "cell_type": "code",
   "execution_count": 3,
   "id": "f7191f7a",
   "metadata": {},
   "outputs": [],
   "source": [
    "commits = dict()\n",
    "\n",
    "commits['boulder'] = ['208d46bf46e86576866f2e34ec8a402159d2b75e',\n",
    "            '6f56f5a30274b1839445826037eae5fa881e6280',\n",
    "            '36c1f1ab2d2fd6a6dd598d1dbe4bb3c1f757a51d',\n",
    "            '17392201b2caf18e1a5b3745f00362ed1a3a8a65',\n",
    "            'f7c6fefc3d607296b7438a16829fcc88285aca43']\n",
    "commits['juju'] = ['9da3d236dbc334f9bb362e16656401f7ea6525b5',\n",
    "        'd9a360c160dd7c561f821000146be65599de717b',\n",
    "        '4234476e6d2b774c9d0550dac19b82d65a3527dc',\n",
    "        '559f6b00bbdb0a6b672505aefc692f24c8568f1c',\n",
    "        '89faeee9508000ac39e25066e2a104adf080fcfc']\n",
    "commits['kops'] = [\"c72ef959b710612855fe4a03460d2bbd9d38fd7d\",\n",
    "        \"94ef2027bed84f7335b5f3aa37f3fec99eb04089\",\n",
    "        \"2c204246567cebcb5badf11550cc2778aa9b79a9\",\n",
    "        \"5db135e3bd4e66e1c5e9301914fc7c33eed7f4a7\",\n",
    "        '5f1d95c98cca311892819fb73a071d853e70a80c']\n",
    "commits['kubernetes'] = ['d5a4a13cfa4606b064bc52bdac383720f4a37a2e', \n",
    "              '6443b6f5438a2a59ef7f83db7411f69ded557bbe',\n",
    "              'dc1fa870bff65c20f48a83ea3af54adb3f526e28',\n",
    "              'ef69bc910f0e47bbe3cf396d4bebf4f678cf6f3a',\n",
    "              '16227cf09dcb6d1a71733d9fa20335007b0ca3d2']\n",
    "commits['loomchain'] = ['',\n",
    "                        '',\n",
    "                        'af9f4a8f3cbdde6c05d81fbeebe775932e6e99b1',\n",
    "             'd60731829e0f0a82499633d0593fc8290afbc1e6',\n",
    "             '350994c2dbc2c32253d15fa2789ac9ac4236aef0']\n"
   ]
  },
  {
   "cell_type": "code",
   "execution_count": 4,
   "id": "10b57ae8",
   "metadata": {},
   "outputs": [
    {
     "name": "stdout",
     "output_type": "stream",
     "text": [
      "boulder\n",
      "1 results/imply/boulder.txt\n",
      "\n",
      "1 results/imply/boulder.txt\n",
      "\n",
      "1 results/imply/boulder.txt\n",
      "\n",
      "4 results/imply/boulder.txt\n",
      "\n",
      "1 results/imply/boulder.txt\n",
      "\n",
      "juju\n",
      "3 results/imply/juju.txt\n",
      "\n",
      "0 results/imply/juju.txt\n",
      "\n",
      "1 results/imply/juju.txt\n",
      "\n",
      "2 results/imply/juju.txt\n",
      "\n",
      "1 results/imply/juju.txt\n",
      "\n",
      "kops\n",
      "0 results/imply/kops.txt\n",
      "\n",
      "2 results/imply/kops.txt\n",
      "\n",
      "6 results/imply/kops.txt\n",
      "\n",
      "7 results/imply/kops.txt\n",
      "\n",
      "10 results/imply/kops.txt\n",
      "\n",
      "kubernetes\n",
      "15 results/imply/kubernetes.txt\n",
      "\n",
      "13 results/imply/kubernetes.txt\n",
      "\n",
      "15 results/imply/kubernetes.txt\n",
      "\n",
      "14 results/imply/kubernetes.txt\n",
      "\n",
      "18 results/imply/kubernetes.txt\n",
      "\n",
      "loomchain\n",
      "-\n",
      "-\n",
      "3 results/imply/loomchain.txt\n",
      "\n",
      "7 results/imply/loomchain.txt\n",
      "\n",
      "7 results/imply/loomchain.txt\n",
      "\n"
     ]
    }
   ],
   "source": [
    "for system in commits:\n",
    "    print(system)\n",
    "    coms = commits[system]   \n",
    "    for index_com in range(len(coms)):        \n",
    "        com = coms[index_com]\n",
    "        if com !='':\n",
    "            os.system(f\"cd {system} && git checkout {com}\")\n",
    "            os.system(\"cd ..\")\n",
    "            tc = Project(system, parser)\n",
    "            tc.analyse_files()\n",
    "            tc.save_imply()\n",
    "            print(os.popen(f\"wc -l results/imply/{system}.txt\").read())\n",
    "            os.system(f\"rm results/imply/{system}.txt\")\n",
    "            tc.save_imply(f\"-{com}\")\n",
    "        else:\n",
    "            print(\"-\")"
   ]
  }
 ],
 "metadata": {
  "kernelspec": {
   "display_name": "Python 3",
   "language": "python",
   "name": "python3"
  },
  "language_info": {
   "codemirror_mode": {
    "name": "ipython",
    "version": 3
   },
   "file_extension": ".py",
   "mimetype": "text/x-python",
   "name": "python",
   "nbconvert_exporter": "python",
   "pygments_lexer": "ipython3",
   "version": "3.9.7"
  }
 },
 "nbformat": 4,
 "nbformat_minor": 5
}
