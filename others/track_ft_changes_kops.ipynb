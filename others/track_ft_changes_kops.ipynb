{
 "cells": [
  {
   "cell_type": "markdown",
   "metadata": {},
   "source": [
    "## Goal : Extract the evolution of the number of toggles for the project kops"
   ]
  },
  {
   "cell_type": "markdown",
   "metadata": {},
   "source": [
    "Import"
   ]
  },
  {
   "cell_type": "code",
   "execution_count": 1,
   "metadata": {},
   "outputs": [],
   "source": [
    "import os\n",
    "import regex as re\n",
    "import datetime\n",
    "import pandas as pd\n",
    "import numpy as np\n",
    "import matplotlib.pyplot as plt\n",
    "import matplotlib.patches as pat\n",
    "import json"
   ]
  },
  {
   "cell_type": "markdown",
   "metadata": {},
   "source": [
    "#### Before running the notebook"
   ]
  },
  {
   "cell_type": "markdown",
   "metadata": {},
   "source": [
    "We extract all the versions of the featureflag/featureflag.go file with the answer of Nathan Arthur here : \n",
    " https://stackoverflow.com/questions/12850030/git-getting-all-previous-version-of-a-specific-file-folder\n",
    " \n",
    "We changed the directory to ../kops_change i.e. the line\n",
    " \n",
    " EXPORT_TO=/tmp/all_versions_exported\n",
    " \n",
    " becomes\n",
    "\n",
    " EXPORT_TO=../kops_changes/\n"
   ]
  },
  {
   "cell_type": "markdown",
   "metadata": {},
   "source": [
    "#### If it worked, you should have a list of files in the ../kops_changes/ directory\n",
    "\n",
    "### Now we can plot the number of feature toggles"
   ]
  },
  {
   "cell_type": "code",
   "execution_count": 2,
   "metadata": {
    "scrolled": false
   },
   "outputs": [
    {
     "name": "stdout",
     "output_type": "stream",
     "text": [
      "File : ../kops_changes/0076.12-May-2021.7112dada3cb9cccd58678a2d5d80537577f0e754.featureflag.go\n",
      "Stamp : 2021-05-12\n",
      "Number of FTs : 24\n"
     ]
    }
   ],
   "source": [
    "kops_dir =  \"../kops_changes/\"\n",
    "\n",
    "kops_files = [kops_dir+k for k in os.listdir(kops_dir)]\n",
    "\n",
    "# 1. we count the number of FT\n",
    "\n",
    "# we search for this type of expression (edit: not working for 2016-12-26): \n",
    "# New(\"DNSPreCreate\", Bool(true)) \n",
    "# because each time it is in the code, a feature toggle is defined \n",
    "# NB : 'Bool' because this part is not in the definition of the constructor New\n",
    "# we are sure to only count the feature toggles\n",
    "exp = \"[N|n]ew.*,*Bool*\"\n",
    "\n",
    "def extract_nb_ft(file_path):\n",
    "    # input : a file path to a version of the feature toggle file\n",
    "    # output : the number of feature toggles in the file\n",
    "    with open(file_path, 'r') as f:\n",
    "        m = re.findall(exp, f.read())\n",
    "    return len(m)\n",
    "\n",
    "# 2. we extract the date (usable as timestamp)\n",
    "\n",
    "def extract_date(file_path):\n",
    "    # input : the path of the file \n",
    "    # e.g. 0001.26-Oct-2021.46c1c24b48572d74fb582e1e5a62552c39409685.featureflag.go\n",
    "    # output : the date \"26-Oct-2021\"\n",
    "    return file_path.split(\".\")[3]\n",
    "\n",
    "months = dict()\n",
    "\n",
    "writen_monthes = pd.Series([extract_date(kf).split('-')[1] for kf in kops_files]).unique()\n",
    "# writen_monthes\n",
    "# ['Jun', 'Oct', 'Sep', 'May', 'Jan', 'Aug', 'Dec', 'Apr', 'Jul', 'Feb', 'Nov', 'Mar']\n",
    "values = [6, 10, 9, 5, 1, 8, 12, 4, 7, 2, 11, 3]\n",
    "\n",
    "for index_month in range(len(writen_monthes)):\n",
    "    wm = writen_monthes[index_month]\n",
    "    months[wm] = values[index_month]\n",
    "\n",
    "def extract_stamp(kf):\n",
    "    # input : the path of the file \n",
    "    # e.g. 0001.26-Oct-2021.46c1c24b48572d74fb582e1e5a62552c39409685.featureflag.go\n",
    "    # output : a timestamp\n",
    "    d = extract_date(kf).split('-')\n",
    "    # class datetime.date(year, month, day)\n",
    "    return datetime.date(int(d[2]), months[d[1]], int(d[0]))\n",
    "\n",
    "# test 1. and 2. with a randomly chosen file\n",
    "kf = kops_files[np.random.randint(len(kops_files))]\n",
    "\n",
    "print(\"File :\",kf)\n",
    "print(\"Stamp :\",extract_stamp(kf))\n",
    "print(\"Number of FTs :\",extract_nb_ft(kf))"
   ]
  },
  {
   "cell_type": "code",
   "execution_count": 3,
   "metadata": {},
   "outputs": [],
   "source": [
    "df_ft = pd.DataFrame([[extract_stamp(kf) for kf in kops_files], \n",
    "                  [extract_nb_ft(kf) for kf in kops_files]]).transpose()\n",
    "df_ft.columns = [\"Date\", \"#FTs\"]\n",
    "df_ft = df_ft.sort_values(by=[\"Date\"])"
   ]
  },
  {
   "cell_type": "markdown",
   "metadata": {},
   "source": [
    "### Add releases & tags\n",
    "\n",
    "We download the releases of kops thanks to postman and store them in a file ../kops_releases.json:\n",
    "\n",
    "call https://api.github.com/repos/kubernetes/kops/releases\n",
    "\n",
    "?per_page=100&page=1\n",
    "\n",
    "and\n",
    "\n",
    "?per_page=100&page=2"
   ]
  },
  {
   "cell_type": "code",
   "execution_count": 4,
   "metadata": {
    "scrolled": false
   },
   "outputs": [
    {
     "name": "stderr",
     "output_type": "stream",
     "text": [
      "<ipython-input-4-1eeb600067bb>:13: SettingWithCopyWarning: \n",
      "A value is trying to be set on a copy of a slice from a DataFrame\n",
      "\n",
      "See the caveats in the documentation: https://pandas.pydata.org/pandas-docs/stable/user_guide/indexing.html#returning-a-view-versus-a-copy\n",
      "  df_rel['Name'][i]='v'+df_rel['Name'][i]\n"
     ]
    }
   ],
   "source": [
    "releases = json.load(open(\"../kops_releases.json\"))\n",
    "\n",
    "date_release = [datetime.datetime.strptime(r[\"published_at\"], \"%Y-%m-%dT%H:%M:%SZ\")\n",
    "                for r in releases]\n",
    "name_release = [r[\"name\"] for r in releases]\n",
    "\n",
    "df_rel = pd.DataFrame([date_release, name_release]).transpose()\n",
    "df_rel.columns = [\"Date\", \"Name\"]\n",
    "\n",
    "for i in range(df_rel.shape[0]):\n",
    "    name = df_rel['Name'][i]\n",
    "    if name[0]!='v':\n",
    "        df_rel['Name'][i]='v'+df_rel['Name'][i]\n",
    "\n",
    "df_rel[\"short\"] = [k.split(\".\")[0]+'.'+k.split('.')[1] for k in df_rel['Name']]\n",
    "\n",
    "df_rel = df_rel.sort_values(by=[\"short\",\"Date\"])\n",
    "\n",
    "short_names = pd.Series([k.replace(\" \", \"\") for k in df_rel[\"short\"]]).unique()\n",
    "short_dates = df_rel.groupby(['short']).min()['Date']"
   ]
  },
  {
   "cell_type": "code",
   "execution_count": 5,
   "metadata": {},
   "outputs": [
    {
     "data": {
      "text/plain": [
       "131"
      ]
     },
     "execution_count": 5,
     "metadata": {},
     "output_type": "execute_result"
    }
   ],
   "source": [
    "len(releases)"
   ]
  },
  {
   "cell_type": "markdown",
   "metadata": {},
   "source": [
    "#### Plot results"
   ]
  },
  {
   "cell_type": "code",
   "execution_count": 15,
   "metadata": {},
   "outputs": [
    {
     "data": {
      "image/png": "[encoded data removed]",
      "text/plain": [
       "<Figure size 1080x504 with 1 Axes>"
      ]
     },
     "metadata": {
      "needs_background": "light"
     },
     "output_type": "display_data"
    }
   ],
   "source": [
    "fig, ax = plt.subplots(figsize=((15, 7)))\n",
    "\n",
    "ax.grid(zorder = 0)\n",
    "ax.scatter(df_ft[\"Date\"], df_ft[\"#FTs\"], color = \"red\", zorder = 0)\n",
    "\n",
    "for year in range(2017, 2023):\n",
    "    plt.vlines(x = datetime.date(year, 1, 1), ymin = 27.5, ymax = 35, color = \"white\", linewidth = 2)\n",
    "\n",
    "for index_release in range(len(df_rel)):\n",
    "    ax.arrow(df_rel[\"Date\"][index_release], 28.5, 0, -0.5, head_width=0.5, head_length=0.1)\n",
    "\n",
    "hide_me = ['v1.13', 'v1.14', 'v1.16', 'v1.17', 'v1.21']\n",
    "replace_me = dict()\n",
    "replace_me['v1.12'] = \"v1.12-13-14\"\n",
    "replace_me['v1.15'] = \"v1.15-16-17\"\n",
    "replace_me['v1.20'] = \"v1.20-21\"\n",
    "\n",
    "for sn in short_names:\n",
    "    if sn not in replace_me:\n",
    "        if sn not in hide_me:\n",
    "            ax.text(short_dates[sn], 29, sn, size = 10)\n",
    "    else:\n",
    "        ax.text(short_dates[sn], 29, replace_me[sn], size = 10)\n",
    "\n",
    "\n",
    "plt.axhline(y = 27.5, color = \"black\", linewidth = 0.5)\n",
    "\n",
    "plt.ylim(0, 30)\n",
    "plt.ylabel(\"Number of Feature Toggles\", size = 20)\n",
    "plt.xlabel(\"Time\", size = 20)\n",
    "plt.savefig(\"../evolution_fts_kops.png\", dpi = 300)\n",
    "plt.show()"
   ]
  },
  {
   "cell_type": "code",
   "execution_count": 30,
   "metadata": {},
   "outputs": [
    {
     "name": "stdout",
     "output_type": "stream",
     "text": [
      "2017-01-10T04:33:19Z c72ef959b710612855fe4a03460d2bbd9d38fd7d\n",
      "2018-02-12T03:38:28Z 94ef2027bed84f7335b5f3aa37f3fec99eb04089\n",
      "2019-01-02T22:09:10Z 2c204246567cebcb5badf11550cc2778aa9b79a9\n",
      "2020-01-29T16:01:33Z 5db135e3bd4e66e1c5e9301914fc7c33eed7f4a7\n",
      "2021-01-15T15:37:34Z 6b538c395c9acaa3a472a634dad1ff651e3a375d\n"
     ]
    }
   ],
   "source": [
    "dates = [r[\"published_at\"] for r in releases]\n",
    "commits = [r[\"target_commitish\"] for r in releases]\n",
    "\n",
    "df_commit = pd.DataFrame([dates, commits]).transpose()\n",
    "df_commit.columns = [\"Date\", \"Commit\"]\n",
    "\n",
    "for year in range(2017, 2022):\n",
    "    df = df_commit[df_commit[\"Date\"].str.contains(str(year), na=False)]\n",
    "    print(df['Date'].iloc[np.argmin(df[\"Date\"])], df['Commit'].iloc[np.argmin(df[\"Date\"])])"
   ]
  },
  {
   "cell_type": "code",
   "execution_count": null,
   "metadata": {},
   "outputs": [],
   "source": []
  },
  {
   "cell_type": "code",
   "execution_count": null,
   "metadata": {},
   "outputs": [],
   "source": []
  }
 ],
 "metadata": {
  "kernelspec": {
   "display_name": "Python 3",
   "language": "python",
   "name": "python3"
  },
  "language_info": {
   "codemirror_mode": {
    "name": "ipython",
    "version": 3
   },
   "file_extension": ".py",
   "mimetype": "text/x-python",
   "name": "python",
   "nbconvert_exporter": "python",
   "pygments_lexer": "ipython3",
   "version": "3.8.1"
  }
 },
 "nbformat": 4,
 "nbformat_minor": 4
}
