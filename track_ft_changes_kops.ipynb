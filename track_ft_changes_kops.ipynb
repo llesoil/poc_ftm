{
 "cells": [
  {
   "cell_type": "markdown",
   "metadata": {},
   "source": [
    "## Goal : Extract the evolution of the number of toggles for the project kops"
   ]
  },
  {
   "cell_type": "markdown",
   "metadata": {},
   "source": [
    "Import"
   ]
  },
  {
   "cell_type": "code",
   "execution_count": 1,
   "metadata": {},
   "outputs": [],
   "source": [
    "import os\n",
    "import regex as re\n",
    "import datetime\n",
    "import pandas as pd\n",
    "import numpy as np\n",
    "import matplotlib.pyplot as plt \n",
    "import json"
   ]
  },
  {
   "cell_type": "markdown",
   "metadata": {},
   "source": [
    "#### Before running the notebook"
   ]
  },
  {
   "cell_type": "markdown",
   "metadata": {},
   "source": [
    "We extract all the versions of the featureflag/featureflag.go file with the answer of Nathan Arthur here : \n",
    " https://stackoverflow.com/questions/12850030/git-getting-all-previous-version-of-a-specific-file-folder\n",
    " \n",
    "We changed the directory to ../kops_change i.e. the line\n",
    " \n",
    " EXPORT_TO=/tmp/all_versions_exported\n",
    " \n",
    " becomes\n",
    "\n",
    " EXPORT_TO=../kops_changes/\n"
   ]
  },
  {
   "cell_type": "markdown",
   "metadata": {},
   "source": [
    "#### If it worked, you should have a list of files in the ../kops_changes/ directory"
   ]
  },
  {
   "cell_type": "code",
   "execution_count": 2,
   "metadata": {
    "scrolled": false
   },
   "outputs": [
    {
     "name": "stdout",
     "output_type": "stream",
     "text": [
      "File : ../kops_changes/0086.2-Oct-2021.34b982f87c78a56f5824c4ccf4ad87fe9cf5796f.featureflag.go\n",
      "Stamp : 2021-10-02\n",
      "Number of FTs : 24\n"
     ]
    }
   ],
   "source": [
    "kops_dir =  \"../kops_changes/\"\n",
    "\n",
    "kops_files = [kops_dir+k for k in os.listdir(kops_dir)]\n",
    "\n",
    "# 1. we count the number of FT\n",
    "\n",
    "# we search for this type of expression (edit: not working for 2016-12-26): \n",
    "# New(\"DNSPreCreate\", Bool(true)) \n",
    "# because each time it is in the code, a feature toggle is defined \n",
    "# NB : 'Bool' because this part is not in the definition of the constructor New\n",
    "# we are sure to only count the feature toggles\n",
    "exp = \"[N|n]ew.*,*Bool*\"\n",
    "\n",
    "def extract_nb_ft(file_path):\n",
    "    # input : a file path to a version of the feature toggle file\n",
    "    # output : the number of feature toggles in the file\n",
    "    with open(file_path, 'r') as f:\n",
    "        m = re.findall(exp, f.read())\n",
    "    return len(m)\n",
    "\n",
    "# 2. we extract the date (usable as timestamp)\n",
    "\n",
    "def extract_date(file_path):\n",
    "    # input : the path of the file \n",
    "    # e.g. 0001.26-Oct-2021.46c1c24b48572d74fb582e1e5a62552c39409685.featureflag.go\n",
    "    # output : the date \"26-Oct-2021\"\n",
    "    return file_path.split(\".\")[3]\n",
    "\n",
    "months = dict()\n",
    "\n",
    "writen_monthes = pd.Series([extract_date(kf).split('-')[1] for kf in kops_files]).unique()\n",
    "# writen_monthes\n",
    "# ['Jun', 'Oct', 'Sep', 'May', 'Jan', 'Aug', 'Dec', 'Apr', 'Jul', 'Feb', 'Nov', 'Mar']\n",
    "values = [6, 10, 9, 5, 1, 8, 12, 4, 7, 2, 11, 3]\n",
    "\n",
    "for index_month in range(len(writen_monthes)):\n",
    "    wm = writen_monthes[index_month]\n",
    "    months[wm] = values[index_month]\n",
    "\n",
    "def extract_stamp(kf):\n",
    "    # input : the path of the file \n",
    "    # e.g. 0001.26-Oct-2021.46c1c24b48572d74fb582e1e5a62552c39409685.featureflag.go\n",
    "    # output : a timestamp\n",
    "    d = extract_date(kf).split('-')\n",
    "    # class datetime.date(year, month, day)\n",
    "    return datetime.date(int(d[2]), months[d[1]], int(d[0]))\n",
    "\n",
    "# test 1. and 2. with a randomly chosen file\n",
    "kf = kops_files[np.random.randint(len(kops_files))]\n",
    "\n",
    "print(\"File :\",kf)\n",
    "print(\"Stamp :\",extract_stamp(kf))\n",
    "print(\"Number of FTs :\",extract_nb_ft(kf))"
   ]
  },
  {
   "cell_type": "markdown",
   "metadata": {},
   "source": [
    "#### Plot results"
   ]
  },
  {
   "cell_type": "code",
   "execution_count": 3,
   "metadata": {},
   "outputs": [
    {
     "data": {
      "image/png": "[encoded data removed]",
      "text/plain": [
       "<Figure size 936x360 with 1 Axes>"
      ]
     },
     "metadata": {
      "needs_background": "light"
     },
     "output_type": "display_data"
    }
   ],
   "source": [
    "df = pd.DataFrame([[extract_stamp(kf) for kf in kops_files], \n",
    "                  [extract_nb_ft(kf) for kf in kops_files]]).transpose()\n",
    "df.columns = [\"Date\", \"#FTs\"]\n",
    "df = df.sort_values(by=[\"Date\"])\n",
    "\n",
    "plt.figure(figsize=(13, 5))\n",
    "plt.grid()\n",
    "plt.scatter(df[\"Date\"], df[\"#FTs\"], color = \"red\")\n",
    "plt.ylabel(\"#FTs\", size =20)\n",
    "plt.xlabel(\"Date\", size =20)\n",
    "plt.show()"
   ]
  },
  {
   "cell_type": "markdown",
   "metadata": {},
   "source": [
    "### Add releases & tags\n",
    "\n",
    "We download the releases of kops thanks to postman and store them in a file ../kops_releases.json:\n",
    "\n",
    "call https://api.github.com/repos/kubernetes/kops/releases\n",
    "\n",
    "?per_page=100&page=1\n",
    "\n",
    "and\n",
    "\n",
    "?per_page=100&page=2"
   ]
  },
  {
   "cell_type": "code",
   "execution_count": 7,
   "metadata": {},
   "outputs": [
    {
     "data": {
      "image/png": "[encoded data removed]",
      "text/plain": [
       "<Figure size 936x360 with 1 Axes>"
      ]
     },
     "metadata": {
      "needs_background": "light"
     },
     "output_type": "display_data"
    }
   ],
   "source": [
    "releases = json.load(open(\"../kops_releases.json\"))\n",
    "\n",
    "date_release = [datetime.datetime.strptime(r[\"published_at\"], \"%Y-%m-%dT%H:%M:%SZ\")\n",
    "                for r in releases]\n",
    "name_release = [r[\"name\"] for r in releases]\n",
    "\n",
    "\n",
    "plt.figure(figsize=(13, 5))\n",
    "plt.grid()\n",
    "plt.scatter(df[\"Date\"], df[\"#FTs\"], color = \"red\")\n",
    "for index_release in range(len(date_release)):\n",
    "    plt.arrow(date_release[index_release], 29, 0, \n",
    "                 -0.5, head_width=0.5, head_length=0.1)\n",
    "plt.ylim(0, 30)\n",
    "plt.ylabel(\"#FTs\", size =20)\n",
    "plt.xlabel(\"Date\", size =20)\n",
    "plt.savefig(\"../evolution_fts_kops.png\", dpi=300)\n",
    "plt.show()"
   ]
  },
  {
   "cell_type": "code",
   "execution_count": 5,
   "metadata": {},
   "outputs": [
    {
     "data": {
      "text/plain": [
       "131"
      ]
     },
     "execution_count": 5,
     "metadata": {},
     "output_type": "execute_result"
    }
   ],
   "source": [
    "len(releases)"
   ]
  },
  {
   "cell_type": "code",
   "execution_count": null,
   "metadata": {},
   "outputs": [],
   "source": []
  }
 ],
 "metadata": {
  "kernelspec": {
   "display_name": "Python 3",
   "language": "python",
   "name": "python3"
  },
  "language_info": {
   "codemirror_mode": {
    "name": "ipython",
    "version": 3
   },
   "file_extension": ".py",
   "mimetype": "text/x-python",
   "name": "python",
   "nbconvert_exporter": "python",
   "pygments_lexer": "ipython3",
   "version": "3.8.1"
  }
 },
 "nbformat": 4,
 "nbformat_minor": 4
}
